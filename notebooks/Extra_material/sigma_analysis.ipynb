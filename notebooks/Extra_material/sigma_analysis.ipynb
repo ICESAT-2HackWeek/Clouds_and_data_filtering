{
 "cells": [
  {
   "cell_type": "code",
   "execution_count": null,
   "metadata": {},
   "outputs": [],
   "source": []
  },
  {
   "cell_type": "markdown",
   "metadata": {},
   "source": [
    "### Simulated returns from snow under clouds: Signal spread\n",
    "Another way we can identify surface returns is to look at how concentrated the photons in a return are.  This is (more or less) how the ATL06 locks onto the ground: It finds collections of photons that are too concentrated to be from a cloud.\n",
    "\n",
    "The expected standard deviation of a collection of photons based on the expected detection count is:\n",
    "$$\\sigma(z)^2 = \\sum_{z_i > z-W/2}^{z_i < z+W/2} \\frac{P_i(z_i-z_c(z))^2}{P_{tot}(z)} $$\n",
    "Here $z_c(z)$ is the centroid of the return probability within $\\pm W/2$ of $z$, and $P_{tot}(z)$ is the integrated probability within $\\pm W/2$ of $z$.\n",
    "\n",
    "We can generate a function to calculate the windowed standard deviation from the expected number of photons:\n",
    "\n"
   ]
  },
  {
   "cell_type": "code",
   "execution_count": 4,
   "metadata": {},
   "outputs": [
    {
     "data": {
      "image/png": "[encoded data removed]",
      "text/plain": [
       "<Figure size 432x288 with 4 Axes>"
      ]
     },
     "metadata": {
      "needs_background": "light"
     },
     "output_type": "display_data"
    }
   ],
   "source": [
    "def window_sigma(z, P, W):\n",
    "    sigma=np.zeros_like(P)+np.NaN\n",
    "    for ii in range(P.size):\n",
    "        els=np.abs(z-z[ii])<=W/2.\n",
    "        Ptot=np.sum(P[els])\n",
    "        if (Ptot == 0) or (np.sum(els) < 25):\n",
    "            continue\n",
    "        zctr=np.sum(P[els]*(z[els]))/Ptot\n",
    "        sigma[ii]=np.sqrt(np.sum(P[els]*(z[els]-zctr)**2.)/Ptot)\n",
    "    return sigma\n",
    "\n",
    "N_BG=2.5e6/1.5e8*dz\n",
    "\n",
    "fig=plt.figure()\n",
    "for axes_ind, key in enumerate([10, 250, 500, 750]):\n",
    "    fig.add_subplot(1, 4, axes_ind+1)\n",
    "    sigma_profile=window_sigma(zc, P_save[key]+N_BG, 5)\n",
    "    plt.plot(sigma_profile, zc)\n",
    "    plt.gca().set_xlim([0, 2])\n",
    "    sigma_surf=np.nanmin(sigma_profile[np.abs(zc< 10)])\n",
    "    plt.title('z_top=%d, \\n $\\sigma_{surf}$=%2.2f' % (key, sigma_surf)) \n",
    "    plt.xlabel('$\\sigma$, m')"
   ]
  }
 ],
 "metadata": {
  "kernelspec": {
   "display_name": "Python 3",
   "language": "python",
   "name": "python3"
  },
  "language_info": {
   "codemirror_mode": {
    "name": "ipython",
    "version": 3
   },
   "file_extension": ".py",
   "mimetype": "text/x-python",
   "name": "python",
   "nbconvert_exporter": "python",
   "pygments_lexer": "ipython3",
   "version": "3.6.7"
  }
 },
 "nbformat": 4,
 "nbformat_minor": 2
}
