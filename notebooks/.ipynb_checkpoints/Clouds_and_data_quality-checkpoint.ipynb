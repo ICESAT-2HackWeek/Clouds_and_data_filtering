{
 "cells": [
  {
   "cell_type": "code",
   "execution_count": 32,
   "metadata": {},
   "outputs": [],
   "source": [
    "import os\n",
    "import h5py\n",
    "from glob import glob\n",
    "import numpy as np\n",
    "import matplotlib.pyplot as plt\n",
    "data_dir='ATL06/Byrd_glacier_rel001/'\n",
    "\n",
    "import os\n",
    "import sys\n",
    "module_path = os.path.abspath(os.path.join('..'))\n",
    "if module_path not in sys.path:\n",
    "    sys.path.append(module_path)\n",
    "from readers import read_HDF5_ATL03, get_ATL03_x_atc\n",
    "# Thanks to Tyler Sutterly for providing these functions!\n",
    "\n",
    "# NOTE: We'll be working in matplotlib's widget mode, which lets us zoom in on our plots.  \n",
    "# This means that the figures won't be rendered in the notebook until you run them.\n",
    "# That means no spoilers (for now...)\n",
    "%matplotlib widget\n"
   ]
  },
  {
   "cell_type": "markdown",
   "metadata": {},
   "source": [
    "# Clouds over land ice: What problems they cause, and what to do about it.\n",
    "This tutorial covers some of the reasons you might see weird results over ice when clouds start to blot out the surface signals.  The learning objectives I'd like to get to are:\n",
    "- Understanding how clouds affect laser-altimetry signals\n",
    "- Recognizing how these effects are manifest in the ATL06 product\n",
    "- Gaining familiarity with the ATL06 parameters that can identify cloudy returns\n",
    "This part of the tutorial will focus on clouds that cause gross errors in surface-height estimates.  \n",
    "\n",
    "Along the way, we'll:\n",
    "\n",
    "- develop a simple function for reading ICESat-2 data from hdf-5 files\n",
    "\n",
    "If time allows, I'll also present on subtler effects caused by forward scattering of laser light by thin clouds, which can lead to smaller elevation biases.  The objectives of this part of the tutorial will be:\n",
    "- Understanding how forward scattering of laser light by clouds can introduce biases in surface-height estimates\n",
    "- Tools for identifying returns affected by forward scattering."
   ]
  },
  {
   "cell_type": "markdown",
   "metadata": {},
   "source": []
  },
  {
   "cell_type": "markdown",
   "metadata": {},
   "source": [
    "Preliminary matters:  \n",
    "I've pulled the ICESat-2 data for the Byrd Glacier catchment, and it's stored on S3, so you can grab it with these commands:\n",
    "\n",
    "    mkdir /home/jovyan/ATL06\n",
    "    aws s3 cp s3://pangeo-data-upload-oregon/icesat2/Clouds_and_filtering_tutorial/ATL06 /home/jovyan/ATL06/Byrd_glacier_rel001 --recursive\n",
    "    mkdir /home/jovyan/ATL03\n",
    "    aws s3 cp s3://pangeo-data-upload-oregon/icesat2/Clouds_and_filtering_tutorial/ATL03 /home/jovyan/ATL03/Byrd_glacier_rel001 --recursive\n"
   ]
  },
  {
   "cell_type": "markdown",
   "metadata": {},
   "source": [
    "## 1.  Introduction: ATL06 review\n",
    "\n",
    "<img src=\"images/ATL06_segment_model.png\"  width=600 height=600>\n",
    "\n",
    "Recall that ATL06 gives us surface heights based on the heights of collections of photons in a 40-m (horizontal) by w_surface_window (vertical) window.  It uses a variety of techniques to shrink the window to the smallest size that contains the surface without clipping off any signal photons.  "
   ]
  },
  {
   "cell_type": "markdown",
   "metadata": {},
   "source": [
    "There's a general philosophy that went into the design of ATL06:\n",
    "1. Use the best available information to identiy the surface\n",
    "2. If there's a chance that we've found a weak surface return, report it\n",
    "3. Provide enough parameters that users can decide which returns are worth using, and which are not\n",
    "\n",
    "When there are no thick clouds between ICESat-2 and the surface, finding the surface return and reporting its height is straightforward: ATL03 provides a tight cluster of high-confidence photons, and ATL06 calculates a weighted average of their heights.\n",
    "\n",
    "Once clouds start to block some of the laser light, the number of photons that return to ICESat-2 from each return becomes progressively smaller.  Unfortunately, even if there are no laser photons to measure, unless it is night time, there is no shortage of other photons to track, mostly from solar background photons.  Unlike surface-return photons, these are uniformally distributed in height, and any clustering of the photons will be due to random chance.  In these cases, ATL03 may flag photons only as low- and medium- confidence for a particular segment, or may flag no photons at all.  If ATL03 hasn't told ATL06 which photons are the surface, it uses a backup signal-finding strategy that initializes surface finding using the strongest cluster of photons available.  It then attempts to converge its surface window on a tight cluster of photons.  This occasionally works, but if there really is no signal, the size of the window generally remains large, and we can evaluate the results based on the signal-to-noise ratio (SNR) of whatever ends up inside the window.  Only those segments with at least 10 photons, for which the probability of converging to an SNR equal to the observed SNR or better for random-noise inputs is less thatn 5% are reported.  This cuts down on false positives considerably.  \n",
    "\n",
    "To get an idea of how this works, we'll read in an ATL03 granule over Byrd Glacier in East Antarctica.  "
   ]
  },
  {
   "cell_type": "code",
   "execution_count": 3,
   "metadata": {},
   "outputs": [],
   "source": []
  },
  {
   "cell_type": "code",
   "execution_count": null,
   "metadata": {},
   "outputs": [],
   "source": [
    "#-- create scatter plot of photon data (e.g., photon elevation vs x_atc)\n",
    "#-- compared with ATL06 outputs\n",
    "f1,ax = plt.subplots(num=1,figsize=(10,6))\n",
    "\n",
    "ATL03_file=glob('/home/jovyan/ATL03/Byrd_glacier_rel001/*.h5')\n",
    "IS2_atl03_mds=read_HDF5_ATL03(ATL03_file)\n",
    "\n",
    "ATL06_file=ATL03_file.replace('ATL03', 'ATL06')\n",
    "D6=ATL06_to_dict(ATL06_file, {'land_ice_segments':['h_li', 'delta_time'], 'land_ice_segments/ground_track':['x_atc']})\n",
    "\n",
    "#-- data for beam gtx\n",
    "gtx = 'gt1r'\n",
    "val = IS2_atl03_mds[gtx][0]\n",
    "\n",
    " \n",
    "#-- check confidence level associated with each photon event\n",
    "#-- -1: Events not associated with a specific surface type\n",
    "#--  0: noise\n",
    "#--  1: buffer but algorithm classifies as background\n",
    "#--  2: low\n",
    "#--  3: medium\n",
    "#--  4: high\n",
    "#-- Signal classification confidence for land ice\n",
    "#-- 0=Land; 1=Ocean; 2=SeaIce; 3=LandIce; 4=InlandWater\n",
    "ice_sig_conf = val['heights']['signal_conf_ph'][:,3]\n",
    "#-- background and buffer photons\n",
    "bg, = np.nonzero((ice_sig_conf == 0) | (ice_sig_conf == 1))\n",
    "lc, = np.nonzero(ice_sig_conf == 2)\n",
    "mc, = np.nonzero(ice_sig_conf == 3)\n",
    "hc, = np.nonzero(ice_sig_conf == 4)\n",
    "#-- Photon event delta time and elevation (WGS84)\n",
    "ax.plot(val['heights']['x_atc'][bg],val['heights']['h_ph'][bg],marker='.',\n",
    "    markersize=0.1,lw=0,color='gray',label='Background')\n",
    "ax.plot(val['heights']['delta_time'][lc],val['heights']['h_ph'][lc],marker='.',\n",
    "    markersize=0.1,lw=0,color='darkorange',label='Low Confidence')\n",
    "ax.plot(val['heights']['delta_time'][mc],val['heights']['h_ph'][mc],marker='.',\n",
    "    markersize=0.1,lw=0,color='mediumseagreen',label='Medium Confidence')\n",
    "ax.plot(val['heights']['delta_time'][hc],val['heights']['h_ph'][hc],marker='.',\n",
    "    markersize=0.1,lw=0,color='darkorchid',label='High Confidence')\n",
    "ax.plot(dt_li,h_li,marker='.',ms=0.1,lw=0,color='red',label='Land Ice Height')\n",
    "#-- set title and labels\n",
    "ax.set_xlabel('Delta Time [s]')\n",
    "ax.set_ylabel('Elevation above WGS84 Ellipsoid [m]')\n",
    "ax.set_title(gtx)\n",
    "#-- create legend\n",
    "lgd = ax.legend(loc=3,frameon=False)\n",
    "lgd.get_frame().set_alpha(1.0)\n",
    "for line in lgd.get_lines():\n",
    "    line.set_linewidth(6)\n",
    "#-- adjust ticks\n",
    "ax.get_xaxis().set_tick_params(which='both',direction='in')\n",
    "ax.get_yaxis().set_tick_params(which='both',direction='in')\n",
    "#-- show the plot\n",
    "plt.show()"
   ]
  },
  {
   "cell_type": "code",
   "execution_count": null,
   "metadata": {},
   "outputs": [],
   "source": []
  },
  {
   "cell_type": "markdown",
   "metadata": {},
   "source": [
    "## 2. Relating cloud effects to ATL06 data parameters\n",
    "\n",
    "Our problem comes when the ground return is not strong enough to trigger the signal finder, and we start to see triggers associated with:\n",
    "- Cloud tops\n",
    "- Random clusterings of background photons\n",
    "\n",
    "These should both be statistically distinct from surface returns because:\n",
    "- The returns are less intense than a high-quality surface return\n",
    "- The photons are more widely vertcally spread than those in surface returns\n",
    "- The surface window cannot converge on a small vertical window around the surface\n",
    "- Surface heights and slopes are not consistent between adjacent segments\n",
    "\n",
    "There are a few ATL06 parameters that help quantify these distinctions. \n",
    "In the /gtxx/land_ice_segments group:\n",
    "- h_li_sigma : the estimated error in the surface-height estimate\n",
    "In the /gtxx/land_ice_segments/fit_statistics groups:\n",
    "- n_fit_photons : The number of photons found in each segment\n",
    "- w_surface_window_final : The size of the converged surface window\n",
    "- h_rms_misft : The RMS misfit of photons in the surface window\n",
    "- h_robust_sprd : A percentile-based estimate of the spread of the photons, corrected for background\n",
    "- snr : the observed signal-to-noise ratio for the selected photons\n",
    "- snr_significance : The estimated probability that a random clustering of photons would produce the observed SNR\n",
    "- dh_fit_dx : the along-track segment slope\n",
    "And in /gtxx/land_ice_segments/geophysical:\n",
    "- r_eff : the effective reflectance of the surface\n",
    "\n",
    "There's one more parameter that puts a few of these ideas together, in /gtxx/land_ice_segments:\n",
    "- atl06_quality_summary : a combination of parameters (h_li_sigma, n_fit_photons/w_surface_window_final, and signal_selection_source).  Zero indicates a good segment, 1 indicates a possibly bad segment.\n"
   ]
  },
  {
   "cell_type": "markdown",
   "metadata": {},
   "source": [
    "### 2.1 Taking our picture of cloud effects to the ice sheet\n",
    "We're next going to look at data from Byrd Glacier, in Antarctica.  This is one of the big outlet glaciers dumping ice from the East Antarctic plateau into the Ross Ice Shelf.  Here's a shaded-relief map from the REMA.\n",
    "<img src=\"https://www.gislounge.com/wp-content/uploads/2018/09/mulock-glacier-dem.jpg\">\n",
    "\n",
    "The glacier flows west to east (the REMA image is south-end-up, so east is on the left).  The inland catchment of the glacier should have a smooth ice surface, but the glacier trunk and the area where it joins the ice shelf are heavily crevassed."
   ]
  },
  {
   "cell_type": "code",
   "execution_count": 41,
   "metadata": {},
   "outputs": [
    {
     "name": "stdout",
     "output_type": "stream",
     "text": [
      "read 250 beam/pair combinations\n"
     ]
    },
    {
     "data": {
      "application/vnd.jupyter.widget-view+json": {
       "model_id": "ff4d4dab4b3447edb96913e35c5e7817",
       "version_major": 2,
       "version_minor": 0
      },
      "text/plain": [
       "FigureCanvasNbAgg()"
      ]
     },
     "metadata": {},
     "output_type": "display_data"
    },
    {
     "data": {
      "text/plain": [
       "<matplotlib.colorbar.Colorbar at 0x7f97482902e8>"
      ]
     },
     "execution_count": 41,
     "metadata": {},
     "output_type": "execute_result"
    }
   ],
   "source": [
    "data_dir='/home/jovyan/ATL06/Byrd_glacier/'\n",
    "D6=[]\n",
    "pairs=[1, 2, 3]\n",
    "beams=['l','r']\n",
    "datasets=['latitude','longitude','h_li', 'x_atc']\n",
    "files=glob(data_dir+'/*.h5')\n",
    "for ii, file in enumerate(files):\n",
    "    this_name=os.path.basename(file)\n",
    "    with h5py.File(file) as h5f:\n",
    "        for pair in pairs:\n",
    "            for beam in beams:\n",
    "                temp={}\n",
    "                for dataset in datasets:\n",
    "                    DS='/gt%d%s/land_ice_segments/%s' % (pair, beam, dataset)\n",
    "                    try:\n",
    "                        temp[dataset]=np.array(h5f[DS])\n",
    "                        if '_FillValue' in h5f[DS].attrs:\n",
    "                            fill_value=h5f[DS].attrs['_FillValue']\n",
    "                            temp[dataset][temp[dataset]==fill_value]=np.NaN\n",
    "                    except KeyError:\n",
    "                        pass\n",
    "                if len(temp) > 0:\n",
    "                    D6.append(temp)\n",
    "print(\"read %d beam/pair combinations\" % (len(D6)))\n",
    "\n",
    "# now plot the results:\n",
    "plt.figure();\n",
    "for Di in D6:\n",
    "    plt.scatter(Di['longitude'], Di['latitude'], c=Di['h_li'], vmin=0, vmax=2000, linewidth=0)\n",
    "plt.xlabel('longitude')\n",
    "plt.ylabel('latitude')\n",
    "plt.colorbar()"
   ]
  },
  {
   "cell_type": "markdown",
   "metadata": {},
   "source": [
    "This plot is opposite the orientation of the REMA map, but we can see the trunk of the glacier (dark blue, right-center) and we can see the plateau (bright yellow, at left).\n",
    "\n",
    "It looks like some of those tracks worked really well, and some of them didn't.  It's not all that much fun typing in all that code every time we want to read an ATL06 file.  Let's make a function to do it:"
   ]
  },
  {
   "cell_type": "markdown",
   "metadata": {},
   "source": [
    "To use this reader, you need to specify a dictionary of that tells the reader which fields you want to read, and where they are in the file.  Here's how we can use it to read the first three files in the directory:\n"
   ]
  },
  {
   "cell_type": "code",
   "execution_count": 43,
   "metadata": {},
   "outputs": [
    {
     "data": {
      "application/vnd.jupyter.widget-view+json": {
       "model_id": "f4e41117e8b648f1b157bfd544e17360",
       "version_major": 2,
       "version_minor": 0
      },
      "text/plain": [
       "FigureCanvasNbAgg()"
      ]
     },
     "metadata": {},
     "output_type": "display_data"
    },
    {
     "data": {
      "application/vnd.jupyter.widget-view+json": {
       "model_id": "7ae40b9825544ab0bddcf79101aa7462",
       "version_major": 2,
       "version_minor": 0
      },
      "text/plain": [
       "FigureCanvasNbAgg()"
      ]
     },
     "metadata": {},
     "output_type": "display_data"
    },
    {
     "name": "stderr",
     "output_type": "stream",
     "text": [
      "/srv/conda/lib/python3.6/site-packages/matplotlib/pyplot.py:514: RuntimeWarning: More than 20 figures have been opened. Figures created through the pyplot interface (`matplotlib.pyplot.figure`) are retained until explicitly closed and may consume too much memory. (To control this warning, see the rcParam `figure.max_open_warning`).\n",
      "  max_open_warning, RuntimeWarning)\n"
     ]
    },
    {
     "data": {
      "application/vnd.jupyter.widget-view+json": {
       "model_id": "bd18df78e3bc4dfda303de973884a038",
       "version_major": 2,
       "version_minor": 0
      },
      "text/plain": [
       "FigureCanvasNbAgg()"
      ]
     },
     "metadata": {},
     "output_type": "display_data"
    },
    {
     "name": "stderr",
     "output_type": "stream",
     "text": [
      "/srv/conda/lib/python3.6/site-packages/matplotlib/pyplot.py:514: RuntimeWarning: More than 20 figures have been opened. Figures created through the pyplot interface (`matplotlib.pyplot.figure`) are retained until explicitly closed and may consume too much memory. (To control this warning, see the rcParam `figure.max_open_warning`).\n",
      "  max_open_warning, RuntimeWarning)\n"
     ]
    },
    {
     "data": {
      "application/vnd.jupyter.widget-view+json": {
       "model_id": "8cf63933f0b7496bbbeb7b9555286edd",
       "version_major": 2,
       "version_minor": 0
      },
      "text/plain": [
       "FigureCanvasNbAgg()"
      ]
     },
     "metadata": {},
     "output_type": "display_data"
    },
    {
     "name": "stderr",
     "output_type": "stream",
     "text": [
      "/srv/conda/lib/python3.6/site-packages/matplotlib/pyplot.py:514: RuntimeWarning: More than 20 figures have been opened. Figures created through the pyplot interface (`matplotlib.pyplot.figure`) are retained until explicitly closed and may consume too much memory. (To control this warning, see the rcParam `figure.max_open_warning`).\n",
      "  max_open_warning, RuntimeWarning)\n"
     ]
    },
    {
     "data": {
      "application/vnd.jupyter.widget-view+json": {
       "model_id": "d8ba8dc5b6dc4d76a6b9814be8d7a2c5",
       "version_major": 2,
       "version_minor": 0
      },
      "text/plain": [
       "FigureCanvasNbAgg()"
      ]
     },
     "metadata": {},
     "output_type": "display_data"
    },
    {
     "name": "stderr",
     "output_type": "stream",
     "text": [
      "/srv/conda/lib/python3.6/site-packages/matplotlib/pyplot.py:514: RuntimeWarning: More than 20 figures have been opened. Figures created through the pyplot interface (`matplotlib.pyplot.figure`) are retained until explicitly closed and may consume too much memory. (To control this warning, see the rcParam `figure.max_open_warning`).\n",
      "  max_open_warning, RuntimeWarning)\n"
     ]
    },
    {
     "data": {
      "application/vnd.jupyter.widget-view+json": {
       "model_id": "f682c31948d245fcb630696bfc7ae80d",
       "version_major": 2,
       "version_minor": 0
      },
      "text/plain": [
       "FigureCanvasNbAgg()"
      ]
     },
     "metadata": {},
     "output_type": "display_data"
    },
    {
     "name": "stderr",
     "output_type": "stream",
     "text": [
      "/srv/conda/lib/python3.6/site-packages/matplotlib/pyplot.py:514: RuntimeWarning: More than 20 figures have been opened. Figures created through the pyplot interface (`matplotlib.pyplot.figure`) are retained until explicitly closed and may consume too much memory. (To control this warning, see the rcParam `figure.max_open_warning`).\n",
      "  max_open_warning, RuntimeWarning)\n"
     ]
    },
    {
     "data": {
      "application/vnd.jupyter.widget-view+json": {
       "model_id": "cc354ade945449f0b7b7edc5edbabe8e",
       "version_major": 2,
       "version_minor": 0
      },
      "text/plain": [
       "FigureCanvasNbAgg()"
      ]
     },
     "metadata": {},
     "output_type": "display_data"
    },
    {
     "name": "stderr",
     "output_type": "stream",
     "text": [
      "/srv/conda/lib/python3.6/site-packages/matplotlib/pyplot.py:514: RuntimeWarning: More than 20 figures have been opened. Figures created through the pyplot interface (`matplotlib.pyplot.figure`) are retained until explicitly closed and may consume too much memory. (To control this warning, see the rcParam `figure.max_open_warning`).\n",
      "  max_open_warning, RuntimeWarning)\n"
     ]
    },
    {
     "data": {
      "application/vnd.jupyter.widget-view+json": {
       "model_id": "b6b2fd687d4143bebefa6f2edeb209ec",
       "version_major": 2,
       "version_minor": 0
      },
      "text/plain": [
       "FigureCanvasNbAgg()"
      ]
     },
     "metadata": {},
     "output_type": "display_data"
    },
    {
     "name": "stderr",
     "output_type": "stream",
     "text": [
      "/srv/conda/lib/python3.6/site-packages/matplotlib/pyplot.py:514: RuntimeWarning: More than 20 figures have been opened. Figures created through the pyplot interface (`matplotlib.pyplot.figure`) are retained until explicitly closed and may consume too much memory. (To control this warning, see the rcParam `figure.max_open_warning`).\n",
      "  max_open_warning, RuntimeWarning)\n"
     ]
    },
    {
     "data": {
      "application/vnd.jupyter.widget-view+json": {
       "model_id": "a51f2950a39b4b85852f5d5275c82ec5",
       "version_major": 2,
       "version_minor": 0
      },
      "text/plain": [
       "FigureCanvasNbAgg()"
      ]
     },
     "metadata": {},
     "output_type": "display_data"
    }
   ],
   "source": [
    "dataset_dict={'land_ice_segments':['latitude','longitude','h_li'], 'land_ice_segments/ground_track':['x_atc']}\n",
    "\n",
    "for file in files[11:20]:\n",
    "    this_D6=ATL06_to_dict(file, dataset_dict)\n",
    "    plt.figure()\n",
    "    plt.plot(this_D6[1]['x_atc'], this_D6[1]['h_li'],'.')\n",
    "    plt.title(this_D6[1]['filename'])"
   ]
  },
  {
   "cell_type": "markdown",
   "metadata": {},
   "source": [
    "These are three granules with variable data quality. The first is very short (it must have only grazed our region of interest. The second is crystal clear, and includes some mountains, the flank of the ice sheet, and the ice shelf. The third is (most likely) bad-quality data with lots of cloud cover.\n",
    "\n",
    "Take a minute to look through some of the files -- partner up with some of the people around you to find some interesting examples, and we'll get back together in a few minutes. You can refer to the files you've found by beam number and the count within the list of files"
   ]
  },
  {
   "cell_type": "code",
   "execution_count": 15,
   "metadata": {},
   "outputs": [],
   "source": [
    "# Workspace"
   ]
  },
  {
   "cell_type": "code",
   "execution_count": 11,
   "metadata": {},
   "outputs": [],
   "source": [
    "# here are some of the files that I picked out as interesting:\n",
    "\n",
    "rough_files=['/home/jovyan/ATL06/Byrd_glacier/processed_ATL06_20181102150421_05340111_209_01.h5', \n",
    "     '/home/jovyan/ATL06/Byrd_glacier/processed_ATL06_20181021060328_03450111_209_01.h5',\n",
    "     '/home/jovyan/ATL06/Byrd_glacier/processed_ATL06_20181112153048_06870111_209_01.h5']"
   ]
  },
  {
   "cell_type": "code",
   "execution_count": 40,
   "metadata": {},
   "outputs": [
    {
     "data": {
      "application/vnd.jupyter.widget-view+json": {
       "model_id": "bb936d1e2894484099ee245dfae605ae",
       "version_major": 2,
       "version_minor": 0
      },
      "text/plain": [
       "FigureCanvasNbAgg()"
      ]
     },
     "metadata": {},
     "output_type": "display_data"
    }
   ],
   "source": [
    "D6=ATL06_to_dict(rough_files[0], dataset_dict)\n",
    "markers=['.','+']\n",
    "plt.figure()\n",
    "for ind, seg in enumerate(D6[0:2]):     \n",
    "    plt.plot(seg['x_atc'], seg['h_li'],marker=markers[ind], color='k', linestyle='')\n",
    "    plt.title(seg['filename'])\n",
    "    "
   ]
  },
  {
   "cell_type": "markdown",
   "metadata": {},
   "source": [
    "This one looks messy!  Segments are scattered between -2km and +2.5 km, and aren't at all consistent with each other.  This one likely has thick clouds that have obscured the surface entirely, and the signal finder has found some random clusters of points with high signal-to-noise ratios."
   ]
  },
  {
   "cell_type": "code",
   "execution_count": 39,
   "metadata": {},
   "outputs": [
    {
     "data": {
      "application/vnd.jupyter.widget-view+json": {
       "model_id": "f370400d07194c8f946d21948f487886",
       "version_major": 2,
       "version_minor": 0
      },
      "text/plain": [
       "FigureCanvasNbAgg()"
      ]
     },
     "metadata": {},
     "output_type": "display_data"
    }
   ],
   "source": [
    "D6=ATL06_to_dict(rough_files[1], dataset_dict)\n",
    "markers=['.','+']\n",
    "plt.figure()\n",
    "for ind, seg in enumerate(D6[0:2]):     \n",
    "    plt.plot(seg['x_atc'], seg['h_li'],marker=markers[ind], color='k', linestyle='')\n",
    "    plt.title(seg['filename'])"
   ]
  },
  {
   "cell_type": "markdown",
   "metadata": {},
   "source": [
    "This one looks somewhat better.  There are some good-signal areas mixed in with the bad."
   ]
  },
  {
   "cell_type": "code",
   "execution_count": 14,
   "metadata": {},
   "outputs": [
    {
     "data": {
      "image/png": "[encoded data removed]",
      "text/plain": [
       "<Figure size 432x288 with 1 Axes>"
      ]
     },
     "metadata": {
      "needs_background": "light"
     },
     "output_type": "display_data"
    }
   ],
   "source": [
    "D6=ATL06_to_dict(rough_files[2], dataset_dict)\n",
    "markers=['.','+']\n",
    "plt.figure()\n",
    "for ind, seg in enumerate(D6[0:2]):     \n",
    "    plt.plot(seg['x_atc'], seg['h_li'],marker=markers[ind], color='k', linestyle='')\n",
    "    plt.title(seg['filename'])"
   ]
  },
  {
   "cell_type": "code",
   "execution_count": null,
   "metadata": {},
   "outputs": [],
   "source": []
  },
  {
   "cell_type": "markdown",
   "metadata": {},
   "source": [
    "### Exercise for participants:\n",
    "Look at the Byrd Glacier profiles.  \n",
    "- Use the matplotlib scatter function to plot the parameters as a function of x_atc and h_li, and see which parameters correspond to good returns, which correspond to clouds.\n",
    "- See which returns are lost if we use the parameter as a threshold"
   ]
  },
  {
   "cell_type": "code",
   "execution_count": 15,
   "metadata": {},
   "outputs": [
    {
     "name": "stderr",
     "output_type": "stream",
     "text": [
      "/srv/conda/lib/python3.6/site-packages/ipykernel_launcher.py:8: RuntimeWarning: invalid value encountered in less\n",
      "  \n"
     ]
    },
    {
     "data": {
      "text/plain": [
       "[<matplotlib.lines.Line2D at 0x7f9748ffa2b0>]"
      ]
     },
     "execution_count": 15,
     "metadata": {},
     "output_type": "execute_result"
    },
    {
     "data": {
      "image/png": "[encoded data removed]",
      "text/plain": [
       "<Figure size 432x288 with 3 Axes>"
      ]
     },
     "metadata": {
      "needs_background": "light"
     },
     "output_type": "display_data"
    }
   ],
   "source": [
    "# Example:  \n",
    "dataset_dict['/land_ice_segments/fit_statistics']=['h_rms_misfit']\n",
    "D6=ATL06_to_dict(rough_files[1], dataset_dict)\n",
    "plt.figure()\n",
    "plt.subplot(121)\n",
    "plt.scatter(D6[0]['x_atc'], D6[0]['h_li'], c=D6[0]['h_rms_misfit'], linewidth=0); plt.colorbar()\n",
    "plt.subplot(122)\n",
    "good=np.where(D6[0]['h_rms_misfit'] < .5)[0]\n",
    "plt.plot(D6[0]['x_atc'][good], D6[0]['h_li'][good],'.')"
   ]
  },
  {
   "cell_type": "markdown",
   "metadata": {},
   "source": [
    "Once you have picked out a set of filtering parameters you like, compare the results with the atl06_quality_summary. Do you have anything you like better?  Regenerate the plot from the top of this section where we mapped the heights for Byrd Glacier using plt.scatter()"
   ]
  },
  {
   "cell_type": "markdown",
   "metadata": {},
   "source": [
    "There is one more way of flagging bad data that we can try, that can help clean up the remaining bad segments.  Recall that the the ATL06 data model fits both the height and the surface slope of segments: \n",
    "\n",
    "<img src=\"images/dh_segment.png\"  width=500 height=450>\n",
    "\n",
    "Let's look at the segments including their slopes:"
   ]
  },
  {
   "cell_type": "code",
   "execution_count": 16,
   "metadata": {},
   "outputs": [],
   "source": [
    "def seg_slope_plot(D6):\n",
    "    \"\"\"\n",
    "    Plot a sloping line for each ATL06 segment\n",
    "    \"\"\"\n",
    "    #define the heights of the segment endpoints.  Leave a row of NaNs so that the endpoints don't get joined\n",
    "    h_ep=np.zeros([3, D6['h_li'].size])+np.NaN\n",
    "    h_ep[0, :]=D6['h_li']-D6['dh_fit_dx']*20\n",
    "    h_ep[1, :]=D6['h_li']+D6['dh_fit_dx']*20\n",
    "    # define the x coordinates of the segment endpoints\n",
    "    x_ep=np.zeros([3,D6['h_li'].size])+np.NaN\n",
    "    x_ep[0, :]=D6['x_atc']-20\n",
    "    x_ep[1, :]=D6['x_atc']+20\n",
    "\n",
    "    plt.plot(x_ep.T.ravel(), h_ep.T.ravel())"
   ]
  },
  {
   "cell_type": "code",
   "execution_count": 17,
   "metadata": {},
   "outputs": [
    {
     "data": {
      "image/png": "[encoded data removed]",
      "text/plain": [
       "<Figure size 432x288 with 1 Axes>"
      ]
     },
     "metadata": {
      "needs_background": "light"
     },
     "output_type": "display_data"
    }
   ],
   "source": [
    "# to try this, we'll need to add dh_fit_dx to the data dictionary:\n",
    "dataset_dict['land_ice_segments/fit_statistics']=['dh_fit_dx']\n",
    "\n",
    "D6=ATL06_to_dict(rough_files[1], dataset_dict)\n",
    "markers=['.','+']\n",
    "plt.figure()\n",
    "for ind, seg in enumerate(D6[0:1]):     \n",
    "    seg_slope_plot(seg)\n",
    "    plt.title(seg['filename'])"
   ]
  },
  {
   "cell_type": "markdown",
   "metadata": {},
   "source": [
    "When we zoom in we can see that the \"smooth\" section is a little messy (maybe crevassed), but that the slopes in the cloudy section are really big.  We can use this to define a new filtering strategy that can delete some of the worst segments:"
   ]
  },
  {
   "cell_type": "code",
   "execution_count": 18,
   "metadata": {},
   "outputs": [],
   "source": [
    "def seg_difference_filter(D6, tol=2):\n",
    "    \"\"\"\n",
    "    seg_difference_filter: Use elevations and slopes to find bad ATL06 segments\n",
    "    \n",
    "    \n",
    "    Inputs: \n",
    "        D6: a granule of ATL06 data, in dictionary format.  Must have entries:\n",
    "            x_atc, h_li, dh_fit_dx\n",
    "        tol: a tolerance.  Segments whose ends are different from their neighbors \n",
    "             by more than tol are marked as bad\n",
    "    Returns:\n",
    "        good: an array the same size as D6['h_li'].  True  entries indicate that \n",
    "            both ends of the segment are compatible with the segment's neighbors\n",
    "        delta_h_seg: an array the same size as D6['h_li'].  Gives the largest \n",
    "            endpoint difference for each segment    \n",
    "    \"\"\"\n",
    "    h_ep=np.zeros([2, D6['h_li'].size])+np.NaN\n",
    "    h_ep[0, :]=D6['h_li']-D6['dh_fit_dx']*20\n",
    "    h_ep[1, :]=D6['h_li']+D6['dh_fit_dx']*20\n",
    "    delta_h_seg=np.zeros_like(D6['h_li'])\n",
    "    delta_h_seg[1:]=np.abs(D6['h_li'][1:]-h_ep[1, :-1])\n",
    "    delta_h_seg[:-1]=np.maximum(delta_h_seg[:-1], D6['h_li'][:-1]-h_ep[0, 1:])\n",
    "    good=delta_h_seg < tol\n",
    "    return good, delta_h_seg\n"
   ]
  },
  {
   "cell_type": "markdown",
   "metadata": {},
   "source": [
    "## Exercise for participants: Try out the seg_difference_filter.  Generate a finalized map of elevations for Byrd Glacier"
   ]
  },
  {
   "cell_type": "code",
   "execution_count": 24,
   "metadata": {},
   "outputs": [],
   "source": [
    "##Workspace"
   ]
  },
  {
   "cell_type": "markdown",
   "metadata": {},
   "source": [
    "# Summary of this part of the tutorial:  \n",
    "- Clouds tend to produce weaker-than-normal returns\n",
    "- We can identify low-quality surface returns with a variety of parameters.  "
   ]
  },
  {
   "cell_type": "markdown",
   "metadata": {},
   "source": [
    "## Errors due to forward scattering of photons.\n",
    "\n",
    "A more insidious problem that clouds can cause comes about when an optically thin cloud lets photons through, but some of the photons scatter off ice grains in the forward (downward) direction and hit the surface before returning to the telescope.\n",
    "\n",
    "<img src=\"images/Forward_scattering.png\"  width=600 height=600>\n",
    "\n",
    "The path for a photon that reaches the surface without hitting the cloud is shown in blue, the path of a scattered photon is shown in red.  Since photons are delayed by a small but random amount whose distribution depends on the height and thickness of the cloud, the expected probability distibution of the scattered photon heights is skewed low (shown in schematic at left), and the mean (or median) photon height has a negative bias. \n",
    "\n",
    "When clouds are high above the ground, most scattered photons end up outside the telescope field of view, and don't do much to skew the return distribution.  It's when clouds are low that more scattered photons are detected, and the bias can become large.  For this reason, Yeukui Yang has put together a set of parameters aimed at flagging segments most strongly affected by forward scattering.  These are in the ATL06 _geophysical_ group:\n",
    "\n",
    "--\n",
    "\n",
    "\n",
    "\n"
   ]
  },
  {
   "cell_type": "code",
   "execution_count": null,
   "metadata": {},
   "outputs": [],
   "source": []
  }
 ],
 "metadata": {
  "kernelspec": {
   "display_name": "Python 3",
   "language": "python",
   "name": "python3"
  },
  "language_info": {
   "codemirror_mode": {
    "name": "ipython",
    "version": 3
   },
   "file_extension": ".py",
   "mimetype": "text/x-python",
   "name": "python",
   "nbconvert_exporter": "python",
   "pygments_lexer": "ipython3",
   "version": "3.6.7"
  }
 },
 "nbformat": 4,
 "nbformat_minor": 2
}
